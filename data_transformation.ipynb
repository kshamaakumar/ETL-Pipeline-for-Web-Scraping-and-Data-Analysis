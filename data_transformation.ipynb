{
 "cells": [
  {
   "cell_type": "markdown",
   "metadata": {},
   "source": [
    "#### Importing libraries"
   ]
  },
  {
   "cell_type": "code",
   "execution_count": 31,
   "metadata": {},
   "outputs": [],
   "source": [
    "import pandas as pd\n",
    "from textblob import TextBlob\n",
    "import matplotlib.pyplot as plt\n",
    "from wordcloud import WordCloud\n",
    "import sqlite3\n",
    "from urllib.parse import urlparse, parse_qs"
   ]
  },
  {
   "cell_type": "markdown",
   "metadata": {},
   "source": [
    "#### Load Data"
   ]
  },
  {
   "cell_type": "code",
   "execution_count": 32,
   "metadata": {},
   "outputs": [
    {
     "data": {
      "text/html": [
       "<div>\n",
       "<style scoped>\n",
       "    .dataframe tbody tr th:only-of-type {\n",
       "        vertical-align: middle;\n",
       "    }\n",
       "\n",
       "    .dataframe tbody tr th {\n",
       "        vertical-align: top;\n",
       "    }\n",
       "\n",
       "    .dataframe thead th {\n",
       "        text-align: right;\n",
       "    }\n",
       "</style>\n",
       "<table border=\"1\" class=\"dataframe\">\n",
       "  <thead>\n",
       "    <tr style=\"text-align: right;\">\n",
       "      <th></th>\n",
       "      <th>title</th>\n",
       "      <th>link</th>\n",
       "      <th>time</th>\n",
       "    </tr>\n",
       "  </thead>\n",
       "  <tbody>\n",
       "    <tr>\n",
       "      <th>0</th>\n",
       "      <td>Ohio Rejects Issue 1, Constitutional Change In...</td>\n",
       "      <td>{'https://news.google.com/topics/articles/CBMi...</td>\n",
       "      <td>2023-08-09T03:17:58Z</td>\n",
       "    </tr>\n",
       "    <tr>\n",
       "      <th>1</th>\n",
       "      <td>Ohio special election and what it could mean f...</td>\n",
       "      <td>{'https://news.google.com/topics/articles/CCAi...</td>\n",
       "      <td>2023-08-09T00:00:01Z</td>\n",
       "    </tr>\n",
       "    <tr>\n",
       "      <th>2</th>\n",
       "      <td>Editorial: Ohio at a crossroad | The Blade</td>\n",
       "      <td>{'https://news.google.com/topics/articles/CBMi...</td>\n",
       "      <td>2023-08-08T04:02:58Z</td>\n",
       "    </tr>\n",
       "    <tr>\n",
       "      <th>3</th>\n",
       "      <td>Commentary: Ohio's GOP just learned voters are...</td>\n",
       "      <td>{'https://news.google.com/topics/articles/CBMi...</td>\n",
       "      <td>2023-08-09T02:27:00Z</td>\n",
       "    </tr>\n",
       "    <tr>\n",
       "      <th>4</th>\n",
       "      <td>Judge schedules Friday hearing on protective o...</td>\n",
       "      <td>{'https://news.google.com/topics/articles/CBMi...</td>\n",
       "      <td>2023-08-08T23:56:00Z</td>\n",
       "    </tr>\n",
       "  </tbody>\n",
       "</table>\n",
       "</div>"
      ],
      "text/plain": [
       "                                               title  \\\n",
       "0  Ohio Rejects Issue 1, Constitutional Change In...   \n",
       "1  Ohio special election and what it could mean f...   \n",
       "2         Editorial: Ohio at a crossroad | The Blade   \n",
       "3  Commentary: Ohio's GOP just learned voters are...   \n",
       "4  Judge schedules Friday hearing on protective o...   \n",
       "\n",
       "                                                link                  time  \n",
       "0  {'https://news.google.com/topics/articles/CBMi...  2023-08-09T03:17:58Z  \n",
       "1  {'https://news.google.com/topics/articles/CCAi...  2023-08-09T00:00:01Z  \n",
       "2  {'https://news.google.com/topics/articles/CBMi...  2023-08-08T04:02:58Z  \n",
       "3  {'https://news.google.com/topics/articles/CBMi...  2023-08-09T02:27:00Z  \n",
       "4  {'https://news.google.com/topics/articles/CBMi...  2023-08-08T23:56:00Z  "
      ]
     },
     "execution_count": 32,
     "metadata": {},
     "output_type": "execute_result"
    }
   ],
   "source": [
    "df = pd.read_csv('news_articles.csv')\n",
    "df.head()"
   ]
  },
  {
   "cell_type": "markdown",
   "metadata": {},
   "source": [
    "#### Change column name \"title\" to \"headlines\""
   ]
  },
  {
   "cell_type": "code",
   "execution_count": 33,
   "metadata": {},
   "outputs": [
    {
     "data": {
      "text/html": [
       "<div>\n",
       "<style scoped>\n",
       "    .dataframe tbody tr th:only-of-type {\n",
       "        vertical-align: middle;\n",
       "    }\n",
       "\n",
       "    .dataframe tbody tr th {\n",
       "        vertical-align: top;\n",
       "    }\n",
       "\n",
       "    .dataframe thead th {\n",
       "        text-align: right;\n",
       "    }\n",
       "</style>\n",
       "<table border=\"1\" class=\"dataframe\">\n",
       "  <thead>\n",
       "    <tr style=\"text-align: right;\">\n",
       "      <th></th>\n",
       "      <th>headlines</th>\n",
       "      <th>link</th>\n",
       "      <th>date_time</th>\n",
       "    </tr>\n",
       "  </thead>\n",
       "  <tbody>\n",
       "    <tr>\n",
       "      <th>0</th>\n",
       "      <td>Ohio Rejects Issue 1, Constitutional Change In...</td>\n",
       "      <td>{'https://news.google.com/topics/articles/CBMi...</td>\n",
       "      <td>2023-08-09T03:17:58Z</td>\n",
       "    </tr>\n",
       "    <tr>\n",
       "      <th>1</th>\n",
       "      <td>Ohio special election and what it could mean f...</td>\n",
       "      <td>{'https://news.google.com/topics/articles/CCAi...</td>\n",
       "      <td>2023-08-09T00:00:01Z</td>\n",
       "    </tr>\n",
       "    <tr>\n",
       "      <th>2</th>\n",
       "      <td>Editorial: Ohio at a crossroad | The Blade</td>\n",
       "      <td>{'https://news.google.com/topics/articles/CBMi...</td>\n",
       "      <td>2023-08-08T04:02:58Z</td>\n",
       "    </tr>\n",
       "    <tr>\n",
       "      <th>3</th>\n",
       "      <td>Commentary: Ohio's GOP just learned voters are...</td>\n",
       "      <td>{'https://news.google.com/topics/articles/CBMi...</td>\n",
       "      <td>2023-08-09T02:27:00Z</td>\n",
       "    </tr>\n",
       "    <tr>\n",
       "      <th>4</th>\n",
       "      <td>Judge schedules Friday hearing on protective o...</td>\n",
       "      <td>{'https://news.google.com/topics/articles/CBMi...</td>\n",
       "      <td>2023-08-08T23:56:00Z</td>\n",
       "    </tr>\n",
       "  </tbody>\n",
       "</table>\n",
       "</div>"
      ],
      "text/plain": [
       "                                           headlines  \\\n",
       "0  Ohio Rejects Issue 1, Constitutional Change In...   \n",
       "1  Ohio special election and what it could mean f...   \n",
       "2         Editorial: Ohio at a crossroad | The Blade   \n",
       "3  Commentary: Ohio's GOP just learned voters are...   \n",
       "4  Judge schedules Friday hearing on protective o...   \n",
       "\n",
       "                                                link             date_time  \n",
       "0  {'https://news.google.com/topics/articles/CBMi...  2023-08-09T03:17:58Z  \n",
       "1  {'https://news.google.com/topics/articles/CCAi...  2023-08-09T00:00:01Z  \n",
       "2  {'https://news.google.com/topics/articles/CBMi...  2023-08-08T04:02:58Z  \n",
       "3  {'https://news.google.com/topics/articles/CBMi...  2023-08-09T02:27:00Z  \n",
       "4  {'https://news.google.com/topics/articles/CBMi...  2023-08-08T23:56:00Z  "
      ]
     },
     "execution_count": 33,
     "metadata": {},
     "output_type": "execute_result"
    }
   ],
   "source": [
    "df.rename({'title':'headlines','time':'date_time'},axis = 1, inplace = True)\n",
    "df.head()"
   ]
  },
  {
   "cell_type": "markdown",
   "metadata": {},
   "source": [
    "#### Check for null values"
   ]
  },
  {
   "cell_type": "code",
   "execution_count": 34,
   "metadata": {},
   "outputs": [
    {
     "data": {
      "text/plain": [
       "headlines    0\n",
       "link         0\n",
       "date_time    0\n",
       "dtype: int64"
      ]
     },
     "execution_count": 34,
     "metadata": {},
     "output_type": "execute_result"
    }
   ],
   "source": [
    "df.isna().sum()"
   ]
  },
  {
   "cell_type": "markdown",
   "metadata": {},
   "source": [
    "#### Check for duplicates"
   ]
  },
  {
   "cell_type": "code",
   "execution_count": 35,
   "metadata": {},
   "outputs": [
    {
     "data": {
      "text/plain": [
       "0"
      ]
     },
     "execution_count": 35,
     "metadata": {},
     "output_type": "execute_result"
    }
   ],
   "source": [
    "df.duplicated().sum()"
   ]
  },
  {
   "cell_type": "markdown",
   "metadata": {},
   "source": [
    "#### Format date_time column to standard format"
   ]
  },
  {
   "cell_type": "code",
   "execution_count": 36,
   "metadata": {},
   "outputs": [
    {
     "data": {
      "text/html": [
       "<div>\n",
       "<style scoped>\n",
       "    .dataframe tbody tr th:only-of-type {\n",
       "        vertical-align: middle;\n",
       "    }\n",
       "\n",
       "    .dataframe tbody tr th {\n",
       "        vertical-align: top;\n",
       "    }\n",
       "\n",
       "    .dataframe thead th {\n",
       "        text-align: right;\n",
       "    }\n",
       "</style>\n",
       "<table border=\"1\" class=\"dataframe\">\n",
       "  <thead>\n",
       "    <tr style=\"text-align: right;\">\n",
       "      <th></th>\n",
       "      <th>headlines</th>\n",
       "      <th>link</th>\n",
       "      <th>date_time</th>\n",
       "    </tr>\n",
       "  </thead>\n",
       "  <tbody>\n",
       "    <tr>\n",
       "      <th>0</th>\n",
       "      <td>Ohio Rejects Issue 1, Constitutional Change In...</td>\n",
       "      <td>{'https://news.google.com/topics/articles/CBMi...</td>\n",
       "      <td>2023-08-09 03:17:58+00:00</td>\n",
       "    </tr>\n",
       "    <tr>\n",
       "      <th>1</th>\n",
       "      <td>Ohio special election and what it could mean f...</td>\n",
       "      <td>{'https://news.google.com/topics/articles/CCAi...</td>\n",
       "      <td>2023-08-09 00:00:01+00:00</td>\n",
       "    </tr>\n",
       "    <tr>\n",
       "      <th>2</th>\n",
       "      <td>Editorial: Ohio at a crossroad | The Blade</td>\n",
       "      <td>{'https://news.google.com/topics/articles/CBMi...</td>\n",
       "      <td>2023-08-08 04:02:58+00:00</td>\n",
       "    </tr>\n",
       "    <tr>\n",
       "      <th>3</th>\n",
       "      <td>Commentary: Ohio's GOP just learned voters are...</td>\n",
       "      <td>{'https://news.google.com/topics/articles/CBMi...</td>\n",
       "      <td>2023-08-09 02:27:00+00:00</td>\n",
       "    </tr>\n",
       "    <tr>\n",
       "      <th>4</th>\n",
       "      <td>Judge schedules Friday hearing on protective o...</td>\n",
       "      <td>{'https://news.google.com/topics/articles/CBMi...</td>\n",
       "      <td>2023-08-08 23:56:00+00:00</td>\n",
       "    </tr>\n",
       "  </tbody>\n",
       "</table>\n",
       "</div>"
      ],
      "text/plain": [
       "                                           headlines  \\\n",
       "0  Ohio Rejects Issue 1, Constitutional Change In...   \n",
       "1  Ohio special election and what it could mean f...   \n",
       "2         Editorial: Ohio at a crossroad | The Blade   \n",
       "3  Commentary: Ohio's GOP just learned voters are...   \n",
       "4  Judge schedules Friday hearing on protective o...   \n",
       "\n",
       "                                                link                 date_time  \n",
       "0  {'https://news.google.com/topics/articles/CBMi... 2023-08-09 03:17:58+00:00  \n",
       "1  {'https://news.google.com/topics/articles/CCAi... 2023-08-09 00:00:01+00:00  \n",
       "2  {'https://news.google.com/topics/articles/CBMi... 2023-08-08 04:02:58+00:00  \n",
       "3  {'https://news.google.com/topics/articles/CBMi... 2023-08-09 02:27:00+00:00  \n",
       "4  {'https://news.google.com/topics/articles/CBMi... 2023-08-08 23:56:00+00:00  "
      ]
     },
     "execution_count": 36,
     "metadata": {},
     "output_type": "execute_result"
    }
   ],
   "source": [
    "df['date_time'] = pd.to_datetime(df['date_time'], format='%Y-%m-%d')\n",
    "df.head()"
   ]
  },
  {
   "cell_type": "markdown",
   "metadata": {},
   "source": [
    "#### Format URL"
   ]
  },
  {
   "cell_type": "code",
   "execution_count": 37,
   "metadata": {},
   "outputs": [],
   "source": [
    "def format_url(link):\n",
    "    parsed_url = urlparse(link)\n",
    "    path_components = parsed_url.path.split('/')\n",
    "    article_id = path_components[-1]\n",
    "    query_params = parse_qs(parsed_url.query)\n",
    "    hl_param = query_params.get('hl', [''])[0]\n",
    "    gl_param = query_params.get('gl', [''])[0]\n",
    "    ceid_param = query_params.get('ceid', [''])[0]\n",
    "    \n",
    "    formatted_info = {\n",
    "        'article_id': article_id,\n",
    "        'language': hl_param,\n",
    "        'region': gl_param,\n",
    "        'ceid': ceid_param\n",
    "    }\n",
    "    return formatted_info"
   ]
  },
  {
   "cell_type": "code",
   "execution_count": 38,
   "metadata": {},
   "outputs": [
    {
     "data": {
      "text/html": [
       "<div>\n",
       "<style scoped>\n",
       "    .dataframe tbody tr th:only-of-type {\n",
       "        vertical-align: middle;\n",
       "    }\n",
       "\n",
       "    .dataframe tbody tr th {\n",
       "        vertical-align: top;\n",
       "    }\n",
       "\n",
       "    .dataframe thead th {\n",
       "        text-align: right;\n",
       "    }\n",
       "</style>\n",
       "<table border=\"1\" class=\"dataframe\">\n",
       "  <thead>\n",
       "    <tr style=\"text-align: right;\">\n",
       "      <th></th>\n",
       "      <th>headlines</th>\n",
       "      <th>link</th>\n",
       "      <th>date_time</th>\n",
       "      <th>article_id</th>\n",
       "      <th>language</th>\n",
       "      <th>region</th>\n",
       "      <th>ceid</th>\n",
       "    </tr>\n",
       "  </thead>\n",
       "  <tbody>\n",
       "    <tr>\n",
       "      <th>0</th>\n",
       "      <td>Ohio Rejects Issue 1, Constitutional Change In...</td>\n",
       "      <td>{'https://news.google.com/topics/articles/CBMi...</td>\n",
       "      <td>2023-08-09 03:17:58+00:00</td>\n",
       "      <td>CBMiSGh0dHBzOi8vd3d3Lm55dGltZXMuY29tLzIwMjMvMD...</td>\n",
       "      <td>en-US</td>\n",
       "      <td>US</td>\n",
       "      <td>US:en'}</td>\n",
       "    </tr>\n",
       "    <tr>\n",
       "      <th>1</th>\n",
       "      <td>Ohio special election and what it could mean f...</td>\n",
       "      <td>{'https://news.google.com/topics/articles/CCAi...</td>\n",
       "      <td>2023-08-09 00:00:01+00:00</td>\n",
       "      <td>CCAiCzNGMzZPVk1oNWljmAEB</td>\n",
       "      <td>en-US</td>\n",
       "      <td>US</td>\n",
       "      <td>US:en'}</td>\n",
       "    </tr>\n",
       "    <tr>\n",
       "      <th>2</th>\n",
       "      <td>Editorial: Ohio at a crossroad | The Blade</td>\n",
       "      <td>{'https://news.google.com/topics/articles/CBMi...</td>\n",
       "      <td>2023-08-08 04:02:58+00:00</td>\n",
       "      <td>CBMiaWh0dHBzOi8vd3d3LnRvbGVkb2JsYWRlLmNvbS9vcG...</td>\n",
       "      <td>en-US</td>\n",
       "      <td>US</td>\n",
       "      <td>US:en'}</td>\n",
       "    </tr>\n",
       "    <tr>\n",
       "      <th>3</th>\n",
       "      <td>Commentary: Ohio's GOP just learned voters are...</td>\n",
       "      <td>{'https://news.google.com/topics/articles/CBMi...</td>\n",
       "      <td>2023-08-09 02:27:00+00:00</td>\n",
       "      <td>CBMiSmh0dHBzOi8vd3d3Lnd2eHUub3JnL3BvbGl0aWNzLz...</td>\n",
       "      <td>en-US</td>\n",
       "      <td>US</td>\n",
       "      <td>US:en'}</td>\n",
       "    </tr>\n",
       "    <tr>\n",
       "      <th>4</th>\n",
       "      <td>Judge schedules Friday hearing on protective o...</td>\n",
       "      <td>{'https://news.google.com/topics/articles/CBMi...</td>\n",
       "      <td>2023-08-08 23:56:00+00:00</td>\n",
       "      <td>CBMiUWh0dHBzOi8vd3d3LmNubi5jb20vMjAyMy8wOC8wOC...</td>\n",
       "      <td>en-US</td>\n",
       "      <td>US</td>\n",
       "      <td>US:en'}</td>\n",
       "    </tr>\n",
       "  </tbody>\n",
       "</table>\n",
       "</div>"
      ],
      "text/plain": [
       "                                           headlines  \\\n",
       "0  Ohio Rejects Issue 1, Constitutional Change In...   \n",
       "1  Ohio special election and what it could mean f...   \n",
       "2         Editorial: Ohio at a crossroad | The Blade   \n",
       "3  Commentary: Ohio's GOP just learned voters are...   \n",
       "4  Judge schedules Friday hearing on protective o...   \n",
       "\n",
       "                                                link  \\\n",
       "0  {'https://news.google.com/topics/articles/CBMi...   \n",
       "1  {'https://news.google.com/topics/articles/CCAi...   \n",
       "2  {'https://news.google.com/topics/articles/CBMi...   \n",
       "3  {'https://news.google.com/topics/articles/CBMi...   \n",
       "4  {'https://news.google.com/topics/articles/CBMi...   \n",
       "\n",
       "                  date_time  \\\n",
       "0 2023-08-09 03:17:58+00:00   \n",
       "1 2023-08-09 00:00:01+00:00   \n",
       "2 2023-08-08 04:02:58+00:00   \n",
       "3 2023-08-09 02:27:00+00:00   \n",
       "4 2023-08-08 23:56:00+00:00   \n",
       "\n",
       "                                          article_id language region     ceid  \n",
       "0  CBMiSGh0dHBzOi8vd3d3Lm55dGltZXMuY29tLzIwMjMvMD...    en-US     US  US:en'}  \n",
       "1                           CCAiCzNGMzZPVk1oNWljmAEB    en-US     US  US:en'}  \n",
       "2  CBMiaWh0dHBzOi8vd3d3LnRvbGVkb2JsYWRlLmNvbS9vcG...    en-US     US  US:en'}  \n",
       "3  CBMiSmh0dHBzOi8vd3d3Lnd2eHUub3JnL3BvbGl0aWNzLz...    en-US     US  US:en'}  \n",
       "4  CBMiUWh0dHBzOi8vd3d3LmNubi5jb20vMjAyMy8wOC8wOC...    en-US     US  US:en'}  "
      ]
     },
     "execution_count": 38,
     "metadata": {},
     "output_type": "execute_result"
    }
   ],
   "source": [
    "df[['article_id', 'language', 'region', 'ceid']] = df['link'].apply(format_url).apply(pd.Series)\n",
    "df.head()"
   ]
  },
  {
   "cell_type": "code",
   "execution_count": 45,
   "metadata": {},
   "outputs": [],
   "source": [
    "conn = sqlite3.connect('etl.db')"
   ]
  },
  {
   "cell_type": "code",
   "execution_count": 46,
   "metadata": {},
   "outputs": [],
   "source": [
    "table_name = 'news'"
   ]
  },
  {
   "cell_type": "code",
   "execution_count": 47,
   "metadata": {},
   "outputs": [],
   "source": [
    "df.to_sql(table_name, conn, if_exists='append', index=False)"
   ]
  }
 ],
 "metadata": {
  "kernelspec": {
   "display_name": "etlenv",
   "language": "python",
   "name": "python3"
  },
  "language_info": {
   "codemirror_mode": {
    "name": "ipython",
    "version": 3
   },
   "file_extension": ".py",
   "mimetype": "text/x-python",
   "name": "python",
   "nbconvert_exporter": "python",
   "pygments_lexer": "ipython3",
   "version": "3.7.9"
  },
  "orig_nbformat": 4
 },
 "nbformat": 4,
 "nbformat_minor": 2
}
